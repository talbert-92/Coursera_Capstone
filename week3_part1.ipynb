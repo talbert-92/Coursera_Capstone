{
 "cells": [
  {
   "cell_type": "code",
   "execution_count": 1,
   "metadata": {},
   "outputs": [],
   "source": [
    "import pandas as pd\n",
    "from IPython.display import IFrame\n",
    "from bs4 import BeautifulSoup\n",
    "import requests"
   ]
  },
  {
   "cell_type": "code",
   "execution_count": 4,
   "metadata": {},
   "outputs": [
    {
     "data": {
      "text/html": [
       "\n",
       "        <iframe\n",
       "            width=\"800\"\n",
       "            height=\"400\"\n",
       "            src=\"https://en.wikipedia.org/wiki/List_of_postal_codes_of_Canada:_M\"\n",
       "            frameborder=\"0\"\n",
       "            allowfullscreen\n",
       "        ></iframe>\n",
       "        "
      ],
      "text/plain": [
       "<IPython.lib.display.IFrame at 0x260eb3715e0>"
      ]
     },
     "execution_count": 4,
     "metadata": {},
     "output_type": "execute_result"
    }
   ],
   "source": [
    "url = \"https://en.wikipedia.org/wiki/List_of_postal_codes_of_Canada:_M\"\n",
    "IFrame(url, width=800, height=400)"
   ]
  },
  {
   "cell_type": "code",
   "execution_count": 5,
   "metadata": {},
   "outputs": [],
   "source": [
    "# get data and flatten it\n",
    "data = pd.read_html(url)\n",
    "table = data[0]\n",
    "table = table.values.flatten()\n",
    "# remove not assigned items\n",
    "filtered_data = []\n",
    "for item in table:\n",
    "    if \"Not assigned\" not in item:\n",
    "        filtered_data.append(item)"
   ]
  },
  {
   "cell_type": "code",
   "execution_count": 6,
   "metadata": {},
   "outputs": [
    {
     "data": {
      "text/plain": [
       "(103, 3)"
      ]
     },
     "execution_count": 6,
     "metadata": {},
     "output_type": "execute_result"
    }
   ],
   "source": [
    "\n",
    "# split and shape the data\n",
    "rows = []\n",
    "for item in filtered_data:\n",
    "    rows.append([item[:3], item[3:item.index(\"(\")], item[item.index(\"(\")+1:]])\n",
    "\n",
    "# convert data to pandas dataframe\n",
    "df = pd.DataFrame(rows, columns=[\"PostalCode\", \"Borough\", \"Neighborhood\"])\n",
    "df[\"Neighborhood\"] = df[\"Neighborhood\"].str.replace(\" /\", \",\")\n",
    "df[\"Neighborhood\"] = df[\"Neighborhood\"].str.replace(\")\", \"\")\n",
    "df[\"Neighborhood\"] = df[\"Neighborhood\"].str.replace(\"(\", \",\")\n",
    "df[\"Neighborhood\"] = df[\"Neighborhood\"].str.replace(\",F\", \", F\")\n",
    "df[\"Neighborhood\"] = df[\"Neighborhood\"].str.replace(\" ,\", \", \")\n",
    "\n",
    "df.head(10)\n",
    "df.shape"
   ]
  },
  {
   "cell_type": "code",
   "execution_count": null,
   "metadata": {},
   "outputs": [],
   "source": []
  },
  {
   "cell_type": "code",
   "execution_count": null,
   "metadata": {},
   "outputs": [],
   "source": []
  }
 ],
 "metadata": {
  "kernelspec": {
   "display_name": "Python 3",
   "language": "python",
   "name": "python3"
  },
  "language_info": {
   "codemirror_mode": {
    "name": "ipython",
    "version": 3
   },
   "file_extension": ".py",
   "mimetype": "text/x-python",
   "name": "python",
   "nbconvert_exporter": "python",
   "pygments_lexer": "ipython3",
   "version": "3.8.5"
  }
 },
 "nbformat": 4,
 "nbformat_minor": 4
}
